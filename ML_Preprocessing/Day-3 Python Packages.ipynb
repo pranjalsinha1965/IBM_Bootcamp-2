{
 "cells": [
  {
   "cell_type": "code",
   "execution_count": 1,
   "id": "89be7c82",
   "metadata": {},
   "outputs": [],
   "source": [
    "import pandas as pd\n",
    "import numpy as np"
   ]
  },
  {
   "cell_type": "markdown",
   "id": "15c97f1c",
   "metadata": {},
   "source": [
    "# Series "
   ]
  },
  {
   "cell_type": "code",
   "execution_count": 2,
   "id": "7ea46ad9",
   "metadata": {},
   "outputs": [],
   "source": [
    "# one dimensional labelled array\n",
    "# Homogenous\n",
    "# data mutable and size immutable\n",
    "# pd.Series(data,index,dtype,copy)\n",
    "#Series can be created with - Array, dict or constant values"
   ]
  },
  {
   "cell_type": "code",
   "execution_count": 3,
   "id": "172d36d3",
   "metadata": {},
   "outputs": [
    {
     "data": {
      "text/plain": [
       "0    1\n",
       "1    2\n",
       "2    3\n",
       "3    4\n",
       "4    5\n",
       "5    6\n",
       "6    7\n",
       "7    8\n",
       "dtype: int64"
      ]
     },
     "execution_count": 3,
     "metadata": {},
     "output_type": "execute_result"
    }
   ],
   "source": [
    "s= pd.Series([1,2,3,4,5,6,7,8])\n",
    "s"
   ]
  },
  {
   "cell_type": "code",
   "execution_count": 4,
   "id": "0ff8f598",
   "metadata": {},
   "outputs": [
    {
     "data": {
      "text/plain": [
       "a    5\n",
       "b    6\n",
       "c    7\n",
       "d    8\n",
       "e    9\n",
       "dtype: int32"
      ]
     },
     "execution_count": 4,
     "metadata": {},
     "output_type": "execute_result"
    }
   ],
   "source": [
    "a= np.arange(5,10)\n",
    "ind=[\"a\",\"b\",\"c\",\"d\",\"e\"]\n",
    "b= pd.Series(a, index=ind)\n",
    "b"
   ]
  },
  {
   "cell_type": "code",
   "execution_count": 5,
   "id": "c5a434d4",
   "metadata": {},
   "outputs": [
    {
     "data": {
      "text/plain": [
       "a     5\n",
       "b     6\n",
       "c     7\n",
       "d    10\n",
       "e     9\n",
       "dtype: int32"
      ]
     },
     "execution_count": 5,
     "metadata": {},
     "output_type": "execute_result"
    }
   ],
   "source": [
    "b['d']=10\n",
    "b"
   ]
  },
  {
   "cell_type": "code",
   "execution_count": 6,
   "id": "f2196500",
   "metadata": {},
   "outputs": [
    {
     "data": {
      "text/plain": [
       "Index(['a', 'b', 'c', 'd', 'e'], dtype='object')"
      ]
     },
     "execution_count": 6,
     "metadata": {},
     "output_type": "execute_result"
    }
   ],
   "source": [
    "b.index"
   ]
  },
  {
   "cell_type": "code",
   "execution_count": 7,
   "id": "a805f2f6",
   "metadata": {},
   "outputs": [
    {
     "data": {
      "text/plain": [
       "{'Texas': 456789, 'Florida': 677654, 'New York': 678923, 'california': 98765}"
      ]
     },
     "execution_count": 7,
     "metadata": {},
     "output_type": "execute_result"
    }
   ],
   "source": [
    "population_dict= {\"Texas\":456789,\n",
    "                 \"Florida\":677654,\n",
    "                 \"New York\":678923,\n",
    "                 \"california\":98765}\n",
    "population_dict"
   ]
  },
  {
   "cell_type": "code",
   "execution_count": 8,
   "id": "eef5e180",
   "metadata": {},
   "outputs": [
    {
     "data": {
      "text/plain": [
       "Texas         456789\n",
       "Florida       677654\n",
       "New York      678923\n",
       "california     98765\n",
       "dtype: int64"
      ]
     },
     "execution_count": 8,
     "metadata": {},
     "output_type": "execute_result"
    }
   ],
   "source": [
    "population = pd.Series(population_dict)\n",
    "population"
   ]
  },
  {
   "cell_type": "code",
   "execution_count": 9,
   "id": "c5c7b515",
   "metadata": {},
   "outputs": [
    {
     "data": {
      "text/plain": [
       "{'Texas': 9876876,\n",
       " 'Florida': 4568765,\n",
       " 'New York': 9874567,\n",
       " 'california': 874587}"
      ]
     },
     "execution_count": 9,
     "metadata": {},
     "output_type": "execute_result"
    }
   ],
   "source": [
    "area_dict= {\"Texas\":9876876,\n",
    "                 \"Florida\":4568765,\n",
    "                 \"New York\":9874567,\n",
    "                 \"california\":874587}\n",
    "area_dict"
   ]
  },
  {
   "cell_type": "code",
   "execution_count": 10,
   "id": "0225960d",
   "metadata": {},
   "outputs": [
    {
     "data": {
      "text/plain": [
       "Texas         9876876\n",
       "Florida       4568765\n",
       "New York      9874567\n",
       "california     874587\n",
       "dtype: int64"
      ]
     },
     "execution_count": 10,
     "metadata": {},
     "output_type": "execute_result"
    }
   ],
   "source": [
    "area = pd.Series(area_dict)\n",
    "area"
   ]
  },
  {
   "cell_type": "code",
   "execution_count": 11,
   "id": "e0aa583d",
   "metadata": {
    "scrolled": true
   },
   "outputs": [
    {
     "data": {
      "text/plain": [
       "Texas         456789\n",
       "Florida       677654\n",
       "New York      678923\n",
       "california     98765\n",
       "dtype: int64"
      ]
     },
     "execution_count": 11,
     "metadata": {},
     "output_type": "execute_result"
    }
   ],
   "source": [
    "population"
   ]
  },
  {
   "cell_type": "code",
   "execution_count": 12,
   "id": "e8ba7a31",
   "metadata": {},
   "outputs": [
    {
     "data": {
      "text/plain": [
       "Texas         9876876\n",
       "Florida       4568765\n",
       "New York      9874567\n",
       "california     874587\n",
       "dtype: int64"
      ]
     },
     "execution_count": 12,
     "metadata": {},
     "output_type": "execute_result"
    }
   ],
   "source": [
    "area"
   ]
  },
  {
   "cell_type": "markdown",
   "id": "1384e662",
   "metadata": {},
   "source": [
    "# DataFrame"
   ]
  },
  {
   "cell_type": "code",
   "execution_count": 13,
   "id": "71cc8fb6",
   "metadata": {},
   "outputs": [],
   "source": [
    "#2-d\n",
    "#Size &data mutable\n",
    "# rows & columns\n",
    "# heterogenously typed"
   ]
  },
  {
   "cell_type": "code",
   "execution_count": 14,
   "id": "e6fdea8c",
   "metadata": {},
   "outputs": [
    {
     "data": {
      "text/html": [
       "<div>\n",
       "<style scoped>\n",
       "    .dataframe tbody tr th:only-of-type {\n",
       "        vertical-align: middle;\n",
       "    }\n",
       "\n",
       "    .dataframe tbody tr th {\n",
       "        vertical-align: top;\n",
       "    }\n",
       "\n",
       "    .dataframe thead th {\n",
       "        text-align: right;\n",
       "    }\n",
       "</style>\n",
       "<table border=\"1\" class=\"dataframe\">\n",
       "  <thead>\n",
       "    <tr style=\"text-align: right;\">\n",
       "      <th></th>\n",
       "      <th>0</th>\n",
       "    </tr>\n",
       "  </thead>\n",
       "  <tbody>\n",
       "    <tr>\n",
       "      <th>0</th>\n",
       "      <td>1</td>\n",
       "    </tr>\n",
       "    <tr>\n",
       "      <th>1</th>\n",
       "      <td>2</td>\n",
       "    </tr>\n",
       "    <tr>\n",
       "      <th>2</th>\n",
       "      <td>3</td>\n",
       "    </tr>\n",
       "    <tr>\n",
       "      <th>3</th>\n",
       "      <td>4</td>\n",
       "    </tr>\n",
       "    <tr>\n",
       "      <th>4</th>\n",
       "      <td>5</td>\n",
       "    </tr>\n",
       "  </tbody>\n",
       "</table>\n",
       "</div>"
      ],
      "text/plain": [
       "   0\n",
       "0  1\n",
       "1  2\n",
       "2  3\n",
       "3  4\n",
       "4  5"
      ]
     },
     "execution_count": 14,
     "metadata": {},
     "output_type": "execute_result"
    }
   ],
   "source": [
    "a= [1,2,3,4,5]\n",
    "data = pd.DataFrame(a)\n",
    "data"
   ]
  },
  {
   "cell_type": "code",
   "execution_count": 15,
   "id": "e6ed25ec",
   "metadata": {},
   "outputs": [
    {
     "data": {
      "text/html": [
       "<div>\n",
       "<style scoped>\n",
       "    .dataframe tbody tr th:only-of-type {\n",
       "        vertical-align: middle;\n",
       "    }\n",
       "\n",
       "    .dataframe tbody tr th {\n",
       "        vertical-align: top;\n",
       "    }\n",
       "\n",
       "    .dataframe thead th {\n",
       "        text-align: right;\n",
       "    }\n",
       "</style>\n",
       "<table border=\"1\" class=\"dataframe\">\n",
       "  <thead>\n",
       "    <tr style=\"text-align: right;\">\n",
       "      <th></th>\n",
       "      <th>name</th>\n",
       "      <th>age</th>\n",
       "    </tr>\n",
       "  </thead>\n",
       "  <tbody>\n",
       "    <tr>\n",
       "      <th>101</th>\n",
       "      <td>Shivani</td>\n",
       "      <td>27</td>\n",
       "    </tr>\n",
       "    <tr>\n",
       "      <th>102</th>\n",
       "      <td>hemant</td>\n",
       "      <td>26</td>\n",
       "    </tr>\n",
       "    <tr>\n",
       "      <th>103</th>\n",
       "      <td>Shivam</td>\n",
       "      <td>25</td>\n",
       "    </tr>\n",
       "  </tbody>\n",
       "</table>\n",
       "</div>"
      ],
      "text/plain": [
       "        name  age\n",
       "101  Shivani   27\n",
       "102   hemant   26\n",
       "103   Shivam   25"
      ]
     },
     "execution_count": 15,
     "metadata": {},
     "output_type": "execute_result"
    }
   ],
   "source": [
    "a= [[\"Shivani\",27],[\"hemant\",26],[\"Shivam\",25]]\n",
    "data = pd.DataFrame(a,columns=[\"name\",\"age\"],index=[101,102,103])\n",
    "data"
   ]
  },
  {
   "cell_type": "code",
   "execution_count": 16,
   "id": "7653bb0a",
   "metadata": {},
   "outputs": [
    {
     "data": {
      "text/html": [
       "<div>\n",
       "<style scoped>\n",
       "    .dataframe tbody tr th:only-of-type {\n",
       "        vertical-align: middle;\n",
       "    }\n",
       "\n",
       "    .dataframe tbody tr th {\n",
       "        vertical-align: top;\n",
       "    }\n",
       "\n",
       "    .dataframe thead th {\n",
       "        text-align: right;\n",
       "    }\n",
       "</style>\n",
       "<table border=\"1\" class=\"dataframe\">\n",
       "  <thead>\n",
       "    <tr style=\"text-align: right;\">\n",
       "      <th></th>\n",
       "      <th>Population</th>\n",
       "      <th>Area</th>\n",
       "    </tr>\n",
       "  </thead>\n",
       "  <tbody>\n",
       "    <tr>\n",
       "      <th>Texas</th>\n",
       "      <td>456789</td>\n",
       "      <td>9876876</td>\n",
       "    </tr>\n",
       "    <tr>\n",
       "      <th>Florida</th>\n",
       "      <td>677654</td>\n",
       "      <td>4568765</td>\n",
       "    </tr>\n",
       "    <tr>\n",
       "      <th>New York</th>\n",
       "      <td>678923</td>\n",
       "      <td>9874567</td>\n",
       "    </tr>\n",
       "    <tr>\n",
       "      <th>california</th>\n",
       "      <td>98765</td>\n",
       "      <td>874587</td>\n",
       "    </tr>\n",
       "  </tbody>\n",
       "</table>\n",
       "</div>"
      ],
      "text/plain": [
       "            Population     Area\n",
       "Texas           456789  9876876\n",
       "Florida         677654  4568765\n",
       "New York        678923  9874567\n",
       "california       98765   874587"
      ]
     },
     "execution_count": 16,
     "metadata": {},
     "output_type": "execute_result"
    }
   ],
   "source": [
    "city = pd.DataFrame({\"Population\":population,\"Area\":area})\n",
    "city"
   ]
  },
  {
   "cell_type": "code",
   "execution_count": 17,
   "id": "b4d750d4",
   "metadata": {},
   "outputs": [
    {
     "data": {
      "text/plain": [
       "Texas         456789\n",
       "Florida       677654\n",
       "New York      678923\n",
       "california     98765\n",
       "Name: Population, dtype: int64"
      ]
     },
     "execution_count": 17,
     "metadata": {},
     "output_type": "execute_result"
    }
   ],
   "source": [
    "city['Population']"
   ]
  },
  {
   "cell_type": "code",
   "execution_count": 18,
   "id": "f4e61a5c",
   "metadata": {},
   "outputs": [],
   "source": [
    "state = city"
   ]
  },
  {
   "cell_type": "code",
   "execution_count": 19,
   "id": "d8bd8c03",
   "metadata": {},
   "outputs": [
    {
     "data": {
      "text/html": [
       "<div>\n",
       "<style scoped>\n",
       "    .dataframe tbody tr th:only-of-type {\n",
       "        vertical-align: middle;\n",
       "    }\n",
       "\n",
       "    .dataframe tbody tr th {\n",
       "        vertical-align: top;\n",
       "    }\n",
       "\n",
       "    .dataframe thead th {\n",
       "        text-align: right;\n",
       "    }\n",
       "</style>\n",
       "<table border=\"1\" class=\"dataframe\">\n",
       "  <thead>\n",
       "    <tr style=\"text-align: right;\">\n",
       "      <th></th>\n",
       "      <th>Population</th>\n",
       "      <th>Area</th>\n",
       "    </tr>\n",
       "  </thead>\n",
       "  <tbody>\n",
       "    <tr>\n",
       "      <th>Texas</th>\n",
       "      <td>456789</td>\n",
       "      <td>9876876</td>\n",
       "    </tr>\n",
       "    <tr>\n",
       "      <th>Florida</th>\n",
       "      <td>677654</td>\n",
       "      <td>4568765</td>\n",
       "    </tr>\n",
       "    <tr>\n",
       "      <th>New York</th>\n",
       "      <td>678923</td>\n",
       "      <td>9874567</td>\n",
       "    </tr>\n",
       "    <tr>\n",
       "      <th>california</th>\n",
       "      <td>98765</td>\n",
       "      <td>874587</td>\n",
       "    </tr>\n",
       "  </tbody>\n",
       "</table>\n",
       "</div>"
      ],
      "text/plain": [
       "            Population     Area\n",
       "Texas           456789  9876876\n",
       "Florida         677654  4568765\n",
       "New York        678923  9874567\n",
       "california       98765   874587"
      ]
     },
     "execution_count": 19,
     "metadata": {},
     "output_type": "execute_result"
    }
   ],
   "source": [
    "state"
   ]
  },
  {
   "cell_type": "code",
   "execution_count": 20,
   "id": "e76b519b",
   "metadata": {},
   "outputs": [
    {
     "data": {
      "text/plain": [
       "Population    4\n",
       "Area          4\n",
       "dtype: int64"
      ]
     },
     "execution_count": 20,
     "metadata": {},
     "output_type": "execute_result"
    }
   ],
   "source": [
    "state.count()"
   ]
  },
  {
   "cell_type": "code",
   "execution_count": 21,
   "id": "2ad10c8f",
   "metadata": {},
   "outputs": [
    {
     "data": {
      "text/plain": [
       "Population     1912131\n",
       "Area          25194795\n",
       "dtype: int64"
      ]
     },
     "execution_count": 21,
     "metadata": {},
     "output_type": "execute_result"
    }
   ],
   "source": [
    "state.sum()"
   ]
  },
  {
   "cell_type": "code",
   "execution_count": 22,
   "id": "516639a5",
   "metadata": {},
   "outputs": [
    {
     "data": {
      "text/plain": [
       "Population     478032.75\n",
       "Area          6298698.75\n",
       "dtype: float64"
      ]
     },
     "execution_count": 22,
     "metadata": {},
     "output_type": "execute_result"
    }
   ],
   "source": [
    "state.mean()"
   ]
  },
  {
   "cell_type": "code",
   "execution_count": 23,
   "id": "22b0c147",
   "metadata": {},
   "outputs": [
    {
     "data": {
      "text/html": [
       "<div>\n",
       "<style scoped>\n",
       "    .dataframe tbody tr th:only-of-type {\n",
       "        vertical-align: middle;\n",
       "    }\n",
       "\n",
       "    .dataframe tbody tr th {\n",
       "        vertical-align: top;\n",
       "    }\n",
       "\n",
       "    .dataframe thead th {\n",
       "        text-align: right;\n",
       "    }\n",
       "</style>\n",
       "<table border=\"1\" class=\"dataframe\">\n",
       "  <thead>\n",
       "    <tr style=\"text-align: right;\">\n",
       "      <th></th>\n",
       "      <th>Population</th>\n",
       "      <th>Area</th>\n",
       "    </tr>\n",
       "  </thead>\n",
       "  <tbody>\n",
       "    <tr>\n",
       "      <th>0</th>\n",
       "      <td>98765</td>\n",
       "      <td>874587</td>\n",
       "    </tr>\n",
       "    <tr>\n",
       "      <th>1</th>\n",
       "      <td>456789</td>\n",
       "      <td>4568765</td>\n",
       "    </tr>\n",
       "    <tr>\n",
       "      <th>2</th>\n",
       "      <td>677654</td>\n",
       "      <td>9874567</td>\n",
       "    </tr>\n",
       "    <tr>\n",
       "      <th>3</th>\n",
       "      <td>678923</td>\n",
       "      <td>9876876</td>\n",
       "    </tr>\n",
       "  </tbody>\n",
       "</table>\n",
       "</div>"
      ],
      "text/plain": [
       "   Population     Area\n",
       "0       98765   874587\n",
       "1      456789  4568765\n",
       "2      677654  9874567\n",
       "3      678923  9876876"
      ]
     },
     "execution_count": 23,
     "metadata": {},
     "output_type": "execute_result"
    }
   ],
   "source": [
    "state.mode()"
   ]
  },
  {
   "cell_type": "code",
   "execution_count": 24,
   "id": "bca9fd0e",
   "metadata": {},
   "outputs": [
    {
     "data": {
      "text/plain": [
       "Population     678923\n",
       "Area          9876876\n",
       "dtype: int64"
      ]
     },
     "execution_count": 24,
     "metadata": {},
     "output_type": "execute_result"
    }
   ],
   "source": [
    "state.max()"
   ]
  },
  {
   "cell_type": "code",
   "execution_count": 25,
   "id": "05714b12",
   "metadata": {},
   "outputs": [
    {
     "data": {
      "text/html": [
       "<div>\n",
       "<style scoped>\n",
       "    .dataframe tbody tr th:only-of-type {\n",
       "        vertical-align: middle;\n",
       "    }\n",
       "\n",
       "    .dataframe tbody tr th {\n",
       "        vertical-align: top;\n",
       "    }\n",
       "\n",
       "    .dataframe thead th {\n",
       "        text-align: right;\n",
       "    }\n",
       "</style>\n",
       "<table border=\"1\" class=\"dataframe\">\n",
       "  <thead>\n",
       "    <tr style=\"text-align: right;\">\n",
       "      <th></th>\n",
       "      <th>Population</th>\n",
       "      <th>Area</th>\n",
       "    </tr>\n",
       "  </thead>\n",
       "  <tbody>\n",
       "    <tr>\n",
       "      <th>count</th>\n",
       "      <td>4.000000</td>\n",
       "      <td>4.000000e+00</td>\n",
       "    </tr>\n",
       "    <tr>\n",
       "      <th>mean</th>\n",
       "      <td>478032.750000</td>\n",
       "      <td>6.298699e+06</td>\n",
       "    </tr>\n",
       "    <tr>\n",
       "      <th>std</th>\n",
       "      <td>273557.342618</td>\n",
       "      <td>4.397114e+06</td>\n",
       "    </tr>\n",
       "    <tr>\n",
       "      <th>min</th>\n",
       "      <td>98765.000000</td>\n",
       "      <td>8.745870e+05</td>\n",
       "    </tr>\n",
       "    <tr>\n",
       "      <th>25%</th>\n",
       "      <td>367283.000000</td>\n",
       "      <td>3.645220e+06</td>\n",
       "    </tr>\n",
       "    <tr>\n",
       "      <th>50%</th>\n",
       "      <td>567221.500000</td>\n",
       "      <td>7.221666e+06</td>\n",
       "    </tr>\n",
       "    <tr>\n",
       "      <th>75%</th>\n",
       "      <td>677971.250000</td>\n",
       "      <td>9.875144e+06</td>\n",
       "    </tr>\n",
       "    <tr>\n",
       "      <th>max</th>\n",
       "      <td>678923.000000</td>\n",
       "      <td>9.876876e+06</td>\n",
       "    </tr>\n",
       "  </tbody>\n",
       "</table>\n",
       "</div>"
      ],
      "text/plain": [
       "          Population          Area\n",
       "count       4.000000  4.000000e+00\n",
       "mean   478032.750000  6.298699e+06\n",
       "std    273557.342618  4.397114e+06\n",
       "min     98765.000000  8.745870e+05\n",
       "25%    367283.000000  3.645220e+06\n",
       "50%    567221.500000  7.221666e+06\n",
       "75%    677971.250000  9.875144e+06\n",
       "max    678923.000000  9.876876e+06"
      ]
     },
     "execution_count": 25,
     "metadata": {},
     "output_type": "execute_result"
    }
   ],
   "source": [
    "state.describe()"
   ]
  },
  {
   "cell_type": "code",
   "execution_count": 26,
   "id": "7b4d067c",
   "metadata": {},
   "outputs": [
    {
     "data": {
      "text/html": [
       "<div>\n",
       "<style scoped>\n",
       "    .dataframe tbody tr th:only-of-type {\n",
       "        vertical-align: middle;\n",
       "    }\n",
       "\n",
       "    .dataframe tbody tr th {\n",
       "        vertical-align: top;\n",
       "    }\n",
       "\n",
       "    .dataframe thead th {\n",
       "        text-align: right;\n",
       "    }\n",
       "</style>\n",
       "<table border=\"1\" class=\"dataframe\">\n",
       "  <thead>\n",
       "    <tr style=\"text-align: right;\">\n",
       "      <th></th>\n",
       "      <th>Population</th>\n",
       "      <th>Area</th>\n",
       "    </tr>\n",
       "  </thead>\n",
       "  <tbody>\n",
       "    <tr>\n",
       "      <th>Texas</th>\n",
       "      <td>456789</td>\n",
       "      <td>9876876</td>\n",
       "    </tr>\n",
       "    <tr>\n",
       "      <th>Florida</th>\n",
       "      <td>677654</td>\n",
       "      <td>4568765</td>\n",
       "    </tr>\n",
       "    <tr>\n",
       "      <th>New York</th>\n",
       "      <td>678923</td>\n",
       "      <td>9874567</td>\n",
       "    </tr>\n",
       "    <tr>\n",
       "      <th>california</th>\n",
       "      <td>98765</td>\n",
       "      <td>874587</td>\n",
       "    </tr>\n",
       "  </tbody>\n",
       "</table>\n",
       "</div>"
      ],
      "text/plain": [
       "            Population     Area\n",
       "Texas           456789  9876876\n",
       "Florida         677654  4568765\n",
       "New York        678923  9874567\n",
       "california       98765   874587"
      ]
     },
     "execution_count": 26,
     "metadata": {},
     "output_type": "execute_result"
    }
   ],
   "source": [
    "state"
   ]
  },
  {
   "cell_type": "code",
   "execution_count": 27,
   "id": "9df17bdf",
   "metadata": {},
   "outputs": [
    {
     "data": {
      "text/html": [
       "<div>\n",
       "<style scoped>\n",
       "    .dataframe tbody tr th:only-of-type {\n",
       "        vertical-align: middle;\n",
       "    }\n",
       "\n",
       "    .dataframe tbody tr th {\n",
       "        vertical-align: top;\n",
       "    }\n",
       "\n",
       "    .dataframe thead th {\n",
       "        text-align: right;\n",
       "    }\n",
       "</style>\n",
       "<table border=\"1\" class=\"dataframe\">\n",
       "  <thead>\n",
       "    <tr style=\"text-align: right;\">\n",
       "      <th></th>\n",
       "      <th>Population</th>\n",
       "      <th>Area</th>\n",
       "    </tr>\n",
       "  </thead>\n",
       "  <tbody>\n",
       "    <tr>\n",
       "      <th>Texas</th>\n",
       "      <td>456789</td>\n",
       "      <td>9876876</td>\n",
       "    </tr>\n",
       "    <tr>\n",
       "      <th>Florida</th>\n",
       "      <td>677654</td>\n",
       "      <td>4568765</td>\n",
       "    </tr>\n",
       "  </tbody>\n",
       "</table>\n",
       "</div>"
      ],
      "text/plain": [
       "         Population     Area\n",
       "Texas        456789  9876876\n",
       "Florida      677654  4568765"
      ]
     },
     "execution_count": 27,
     "metadata": {},
     "output_type": "execute_result"
    }
   ],
   "source": [
    "state.head(2)"
   ]
  },
  {
   "cell_type": "code",
   "execution_count": 28,
   "id": "ccbf3cbf",
   "metadata": {},
   "outputs": [
    {
     "data": {
      "text/html": [
       "<div>\n",
       "<style scoped>\n",
       "    .dataframe tbody tr th:only-of-type {\n",
       "        vertical-align: middle;\n",
       "    }\n",
       "\n",
       "    .dataframe tbody tr th {\n",
       "        vertical-align: top;\n",
       "    }\n",
       "\n",
       "    .dataframe thead th {\n",
       "        text-align: right;\n",
       "    }\n",
       "</style>\n",
       "<table border=\"1\" class=\"dataframe\">\n",
       "  <thead>\n",
       "    <tr style=\"text-align: right;\">\n",
       "      <th></th>\n",
       "      <th>Population</th>\n",
       "      <th>Area</th>\n",
       "    </tr>\n",
       "  </thead>\n",
       "  <tbody>\n",
       "    <tr>\n",
       "      <th>New York</th>\n",
       "      <td>678923</td>\n",
       "      <td>9874567</td>\n",
       "    </tr>\n",
       "    <tr>\n",
       "      <th>california</th>\n",
       "      <td>98765</td>\n",
       "      <td>874587</td>\n",
       "    </tr>\n",
       "  </tbody>\n",
       "</table>\n",
       "</div>"
      ],
      "text/plain": [
       "            Population     Area\n",
       "New York        678923  9874567\n",
       "california       98765   874587"
      ]
     },
     "execution_count": 28,
     "metadata": {},
     "output_type": "execute_result"
    }
   ],
   "source": [
    "state.tail(2)"
   ]
  },
  {
   "cell_type": "code",
   "execution_count": 29,
   "id": "01d6fd9d",
   "metadata": {},
   "outputs": [],
   "source": [
    "state.to_csv(\"state.csv\")"
   ]
  },
  {
   "cell_type": "code",
   "execution_count": 30,
   "id": "82a31893",
   "metadata": {},
   "outputs": [],
   "source": [
    "data = pd.read_csv(\"state.csv\")"
   ]
  },
  {
   "cell_type": "code",
   "execution_count": 31,
   "id": "fa169a53",
   "metadata": {},
   "outputs": [
    {
     "data": {
      "text/html": [
       "<div>\n",
       "<style scoped>\n",
       "    .dataframe tbody tr th:only-of-type {\n",
       "        vertical-align: middle;\n",
       "    }\n",
       "\n",
       "    .dataframe tbody tr th {\n",
       "        vertical-align: top;\n",
       "    }\n",
       "\n",
       "    .dataframe thead th {\n",
       "        text-align: right;\n",
       "    }\n",
       "</style>\n",
       "<table border=\"1\" class=\"dataframe\">\n",
       "  <thead>\n",
       "    <tr style=\"text-align: right;\">\n",
       "      <th></th>\n",
       "      <th>Unnamed: 0</th>\n",
       "      <th>Population</th>\n",
       "      <th>Area</th>\n",
       "    </tr>\n",
       "  </thead>\n",
       "  <tbody>\n",
       "    <tr>\n",
       "      <th>0</th>\n",
       "      <td>Texas</td>\n",
       "      <td>456789</td>\n",
       "      <td>9876876</td>\n",
       "    </tr>\n",
       "    <tr>\n",
       "      <th>1</th>\n",
       "      <td>Florida</td>\n",
       "      <td>677654</td>\n",
       "      <td>4568765</td>\n",
       "    </tr>\n",
       "    <tr>\n",
       "      <th>2</th>\n",
       "      <td>New York</td>\n",
       "      <td>678923</td>\n",
       "      <td>9874567</td>\n",
       "    </tr>\n",
       "    <tr>\n",
       "      <th>3</th>\n",
       "      <td>california</td>\n",
       "      <td>98765</td>\n",
       "      <td>874587</td>\n",
       "    </tr>\n",
       "  </tbody>\n",
       "</table>\n",
       "</div>"
      ],
      "text/plain": [
       "   Unnamed: 0  Population     Area\n",
       "0       Texas      456789  9876876\n",
       "1     Florida      677654  4568765\n",
       "2    New York      678923  9874567\n",
       "3  california       98765   874587"
      ]
     },
     "execution_count": 31,
     "metadata": {},
     "output_type": "execute_result"
    }
   ],
   "source": [
    "data"
   ]
  },
  {
   "cell_type": "code",
   "execution_count": 32,
   "id": "fcc0e346",
   "metadata": {},
   "outputs": [
    {
     "data": {
      "text/plain": [
       "1    a\n",
       "3    b\n",
       "5    c\n",
       "dtype: object"
      ]
     },
     "execution_count": 32,
     "metadata": {},
     "output_type": "execute_result"
    }
   ],
   "source": [
    "data = pd.Series([\"a\",\"b\",\"c\"],index=[1,3,5])\n",
    "data"
   ]
  },
  {
   "cell_type": "code",
   "execution_count": 33,
   "id": "dc7c4563",
   "metadata": {},
   "outputs": [
    {
     "data": {
      "text/plain": [
       "'b'"
      ]
     },
     "execution_count": 33,
     "metadata": {},
     "output_type": "execute_result"
    }
   ],
   "source": [
    "data[3]"
   ]
  },
  {
   "cell_type": "code",
   "execution_count": 34,
   "id": "d0025a0a",
   "metadata": {},
   "outputs": [
    {
     "data": {
      "text/plain": [
       "'b'"
      ]
     },
     "execution_count": 34,
     "metadata": {},
     "output_type": "execute_result"
    }
   ],
   "source": [
    "data.iloc[1]"
   ]
  },
  {
   "cell_type": "markdown",
   "id": "8e427b3f",
   "metadata": {},
   "source": [
    "# Matplotlib"
   ]
  },
  {
   "cell_type": "code",
   "execution_count": 35,
   "id": "954b4ab8",
   "metadata": {},
   "outputs": [],
   "source": [
    "import matplotlib.pyplot as plt\n",
    "#from matploblib import pyplot as plt"
   ]
  },
  {
   "cell_type": "code",
   "execution_count": 36,
   "id": "303366c9",
   "metadata": {},
   "outputs": [
    {
     "data": {
      "text/plain": [
       "array([  1,   8,  27,  64, 125], dtype=int32)"
      ]
     },
     "execution_count": 36,
     "metadata": {},
     "output_type": "execute_result"
    }
   ],
   "source": [
    "x= np.array([1,2,3,4,5])\n",
    "y= np.power(x,3)\n",
    "y"
   ]
  },
  {
   "cell_type": "code",
   "execution_count": 37,
   "id": "b1b9277a",
   "metadata": {},
   "outputs": [
    {
     "data": {
      "text/plain": [
       "[<matplotlib.lines.Line2D at 0x1aa286a65b0>]"
      ]
     },
     "execution_count": 37,
     "metadata": {},
     "output_type": "execute_result"
    },
    {
     "data": {
      "image/png": "[encoded data removed]",
      "text/plain": [
       "<Figure size 432x288 with 1 Axes>"
      ]
     },
     "metadata": {
      "needs_background": "light"
     },
     "output_type": "display_data"
    }
   ],
   "source": [
    "plt.plot(x,y)"
   ]
  },
  {
   "cell_type": "code",
   "execution_count": 38,
   "id": "9c6cc979",
   "metadata": {},
   "outputs": [
    {
     "data": {
      "text/plain": [
       "Text(0, 0.5, 'y-axis')"
      ]
     },
     "execution_count": 38,
     "metadata": {},
     "output_type": "execute_result"
    },
    {
     "data": {
      "image/png": "[encoded data removed]",
      "text/plain": [
       "<Figure size 432x288 with 1 Axes>"
      ]
     },
     "metadata": {
      "needs_background": "light"
     },
     "output_type": "display_data"
    }
   ],
   "source": [
    "x= np.linspace(0,10,100)\n",
    "y= np.sin(x)\n",
    "plt.plot(x,y,\"g*\")\n",
    "plt.xlabel(\"x-axis\")\n",
    "plt.ylabel(\"y-axis\")"
   ]
  },
  {
   "cell_type": "code",
   "execution_count": 39,
   "id": "111b77f5",
   "metadata": {},
   "outputs": [
    {
     "data": {
      "text/plain": [
       "Text(0.5, 1.0, 'Square & cube')"
      ]
     },
     "execution_count": 39,
     "metadata": {},
     "output_type": "execute_result"
    },
    {
     "data": {
      "image/png": "[encoded data removed]",
      "text/plain": [
       "<Figure size 432x288 with 1 Axes>"
      ]
     },
     "metadata": {
      "needs_background": "light"
     },
     "output_type": "display_data"
    }
   ],
   "source": [
    "x= np.array([1,2,3,4,5])\n",
    "y1= np.power(x,3)\n",
    "y2= np.power(x,2)\n",
    "plt.plot(x,y1,\"g\",label=\"Cube\")\n",
    "plt.plot(x,y2,\"r\",label=\"Square\")\n",
    "plt.xlabel(\"x-axis\")\n",
    "plt.ylabel(\"y-axis\")\n",
    "plt.legend(loc=\"upper center\")\n",
    "plt.title(\"Square & cube\")"
   ]
  },
  {
   "cell_type": "code",
   "execution_count": 40,
   "id": "622c66ed",
   "metadata": {},
   "outputs": [],
   "source": [
    "#bar chart"
   ]
  },
  {
   "cell_type": "code",
   "execution_count": 41,
   "id": "099fd7d7",
   "metadata": {},
   "outputs": [
    {
     "data": {
      "text/plain": [
       "<BarContainer object of 5 artists>"
      ]
     },
     "execution_count": 41,
     "metadata": {},
     "output_type": "execute_result"
    },
    {
     "data": {
      "image/png": "[encoded data removed]",
      "text/plain": [
       "<Figure size 432x288 with 1 Axes>"
      ]
     },
     "metadata": {
      "needs_background": "light"
     },
     "output_type": "display_data"
    }
   ],
   "source": [
    "marks=[45,38,65,29,86]\n",
    "subject=[\"Maths\",\"Science\",\"English\",\"Hindi\",\"Social science\"]\n",
    "plt.bar(subject,marks,color=\"red\")"
   ]
  },
  {
   "cell_type": "code",
   "execution_count": 42,
   "id": "9dbefe65",
   "metadata": {},
   "outputs": [
    {
     "data": {
      "text/plain": [
       "<BarContainer object of 5 artists>"
      ]
     },
     "execution_count": 42,
     "metadata": {},
     "output_type": "execute_result"
    },
    {
     "data": {
      "image/png": "[encoded data removed]",
      "text/plain": [
       "<Figure size 432x288 with 1 Axes>"
      ]
     },
     "metadata": {
      "needs_background": "light"
     },
     "output_type": "display_data"
    }
   ],
   "source": [
    "marks=[45,38,65,29,86]\n",
    "subject=[\"Maths\",\"Science\",\"English\",\"Hindi\",\"Social science\"]\n",
    "plt.barh(subject,marks,color=[\"red\",\"green\",\"blue\",\"yellow\",\"orange\"])"
   ]
  },
  {
   "cell_type": "code",
   "execution_count": 43,
   "id": "f079a1d7",
   "metadata": {},
   "outputs": [
    {
     "data": {
      "text/plain": [
       "<matplotlib.collections.PathCollection at 0x1aa2ad708b0>"
      ]
     },
     "execution_count": 43,
     "metadata": {},
     "output_type": "execute_result"
    },
    {
     "data": {
      "image/png": "[encoded data removed]",
      "text/plain": [
       "<Figure size 432x288 with 1 Axes>"
      ]
     },
     "metadata": {
      "needs_background": "light"
     },
     "output_type": "display_data"
    }
   ],
   "source": [
    "x= np.random.randn(100)\n",
    "y= np.random.randn(100)\n",
    "plt.scatter(x,y)"
   ]
  },
  {
   "cell_type": "code",
   "execution_count": 44,
   "id": "9d2760fc",
   "metadata": {},
   "outputs": [
    {
     "data": {
      "text/plain": [
       "array([ 0.48850428,  1.69780586, -0.75060412,  2.24262065, -1.4260346 ,\n",
       "        0.09937921, -0.81253794,  0.98239557, -1.2685423 , -0.15078354,\n",
       "       -0.84911381,  0.91090155,  0.39253414, -0.35531022,  0.99012488,\n",
       "       -1.75289027, -0.59185736, -2.76564662,  0.03432675, -0.1479703 ,\n",
       "        0.72980724,  0.46185637,  1.23827937, -0.4878104 ,  2.65253543,\n",
       "       -2.73825079,  1.21818978, -1.19942523, -0.64961152,  0.16163724,\n",
       "        0.76038788,  1.05465859,  1.25770399, -0.94803612,  0.40641152,\n",
       "        0.08266468,  0.74637979, -1.27086728, -0.14117206, -2.29033352,\n",
       "       -0.77841901,  0.08552442,  0.81341706, -0.80140376, -1.710511  ,\n",
       "        2.14300729, -0.96523391,  0.44334135,  0.40902515,  0.93786341,\n",
       "        0.10361658,  0.02706754,  0.62025321,  0.38503972, -0.76200693,\n",
       "       -1.80002833,  0.12254866,  0.03415481, -0.07125145, -0.38083132,\n",
       "        1.2768271 , -0.10422791,  0.5296705 ,  1.42942652, -0.86284445,\n",
       "       -0.04096518,  0.72529732,  0.17787604, -0.52157251, -1.00807552,\n",
       "       -0.70943059, -1.37034908, -0.16255389, -0.34616079,  1.44137049,\n",
       "       -1.1458197 , -0.46769078, -1.6535268 , -0.39030559, -0.42535601,\n",
       "        0.05775842, -0.19365866,  0.34681859, -1.69258528,  0.05284497,\n",
       "        0.75187483,  1.34124342, -0.29962734,  0.499618  , -0.30809804,\n",
       "        0.04208119, -0.51524499,  1.19970226, -0.65631658,  1.23980484,\n",
       "        1.28969346,  2.51442849, -0.75563007,  1.42878796,  0.12171034])"
      ]
     },
     "execution_count": 44,
     "metadata": {},
     "output_type": "execute_result"
    }
   ],
   "source": [
    "x"
   ]
  },
  {
   "cell_type": "code",
   "execution_count": 45,
   "id": "df35c24e",
   "metadata": {},
   "outputs": [
    {
     "data": {
      "text/plain": [
       "([<matplotlib.patches.Wedge at 0x1aa2ade12e0>,\n",
       "  <matplotlib.patches.Wedge at 0x1aa2ade1820>,\n",
       "  <matplotlib.patches.Wedge at 0x1aa2ade1d00>,\n",
       "  <matplotlib.patches.Wedge at 0x1aa2adf21c0>,\n",
       "  <matplotlib.patches.Wedge at 0x1aa2adf26a0>],\n",
       " [Text(0.9448708441643341, 0.5632220590923076, 'Maths'),\n",
       "  Text(0.04597571082306635, 1.0990387773023815, 'Science'),\n",
       "  Text(-1.0206117120566032, 0.4103068768774045, 'English'),\n",
       "  Text(-0.8118675750582214, -0.7422068718147816, 'Hindi'),\n",
       "  Text(0.5688553514185691, -0.9414900897845162, 'Sscience')])"
      ]
     },
     "execution_count": 45,
     "metadata": {},
     "output_type": "execute_result"
    },
    {
     "data": {
      "image/png": "[encoded data removed]",
      "text/plain": [
       "<Figure size 432x288 with 1 Axes>"
      ]
     },
     "metadata": {},
     "output_type": "display_data"
    }
   ],
   "source": [
    "marks=[45,38,65,29,86]\n",
    "subject=[\"Maths\",\"Science\",\"English\",\"Hindi\",\"Sscience\"]\n",
    "plt.pie(marks,labels=subject,colors=[\"red\",\"green\",\"blue\",\"yellow\",\"orange\"])"
   ]
  },
  {
   "cell_type": "code",
   "execution_count": 46,
   "id": "5533d159",
   "metadata": {},
   "outputs": [
    {
     "data": {
      "text/plain": [
       "([<matplotlib.patches.Wedge at 0x1aa2b2384f0>,\n",
       "  <matplotlib.patches.Wedge at 0x1aa2b238ac0>,\n",
       "  <matplotlib.patches.Wedge at 0x1aa2b238e80>,\n",
       "  <matplotlib.patches.Wedge at 0x1aa2b2473a0>,\n",
       "  <matplotlib.patches.Wedge at 0x1aa2b247880>],\n",
       " [Text(0.26986644395603704, 1.0663827185520793, 'Maths'),\n",
       "  Text(-0.7446280353246238, 0.8096475091103479, 'Science'),\n",
       "  Text(-1.0118122375611227, -0.43155068754614956, 'English'),\n",
       "  Text(-0.04925755564565954, -1.0988965798526333, 'Hindi'),\n",
       "  Text(1.0679755034088896, -0.26349255040423614, 'Sscience')])"
      ]
     },
     "execution_count": 46,
     "metadata": {},
     "output_type": "execute_result"
    },
    {
     "data": {
      "image/png": "[encoded data removed]",
      "text/plain": [
       "<Figure size 432x288 with 1 Axes>"
      ]
     },
     "metadata": {},
     "output_type": "display_data"
    }
   ],
   "source": [
    "marks=[45,38,65,29,86]\n",
    "subject=[\"Maths\",\"Science\",\"English\",\"Hindi\",\"Sscience\"]\n",
    "plt.pie(marks,labels=subject,colors=[\"red\",\"green\",\"blue\",\"yellow\",\"orange\"],startangle=45)"
   ]
  },
  {
   "cell_type": "code",
   "execution_count": 47,
   "id": "b9105b10",
   "metadata": {},
   "outputs": [
    {
     "data": {
      "text/plain": [
       "([<matplotlib.patches.Wedge at 0x1aa2b28e400>,\n",
       "  <matplotlib.patches.Wedge at 0x1aa2b28e910>,\n",
       "  <matplotlib.patches.Wedge at 0x1aa2b28ed00>,\n",
       "  <matplotlib.patches.Wedge at 0x1aa2b29d220>,\n",
       "  <matplotlib.patches.Wedge at 0x1aa2b29d700>],\n",
       " [Text(-0.5632220590923075, 0.9448708441643342, 'Maths'),\n",
       "  Text(-1.0990387773023815, 0.04597571082306642, 'Science'),\n",
       "  Text(-0.4476075020480782, -1.1133945949708395, 'English'),\n",
       "  Text(0.8771535757811058, -0.959479861432443, 'Hindi'),\n",
       "  Text(0.9414900897845162, 0.568855351418569, 'Sscience')])"
      ]
     },
     "execution_count": 47,
     "metadata": {},
     "output_type": "execute_result"
    },
    {
     "data": {
      "image/png": "[encoded data removed]",
      "text/plain": [
       "<Figure size 432x288 with 1 Axes>"
      ]
     },
     "metadata": {},
     "output_type": "display_data"
    }
   ],
   "source": [
    "marks=[45,38,65,29,86]\n",
    "subject=[\"Maths\",\"Science\",\"English\",\"Hindi\",\"Sscience\"]\n",
    "plt.pie(marks,labels=subject,colors=[\"red\",\"green\",\"blue\",\"yellow\",\"orange\"],startangle=90, explode=(0,0,0.1,0.2,0))"
   ]
  },
  {
   "cell_type": "code",
   "execution_count": 48,
   "id": "c59daa46",
   "metadata": {},
   "outputs": [
    {
     "data": {
      "text/plain": [
       "Text(0, 0.5, 'y-axis')"
      ]
     },
     "execution_count": 48,
     "metadata": {},
     "output_type": "execute_result"
    },
    {
     "data": {
      "image/png": "[encoded data removed]",
      "text/plain": [
       "<Figure size 720x360 with 2 Axes>"
      ]
     },
     "metadata": {
      "needs_background": "light"
     },
     "output_type": "display_data"
    }
   ],
   "source": [
    "plt.figure(figsize=(10,5))\n",
    "x= np.array([1,2,3,4,5])\n",
    "y1= np.power(x,3)\n",
    "y2= np.power(x,2)\n",
    "plt.subplot(2,2,1)\n",
    "plt.plot(x,y1,\"g\",label=\"Cube\")\n",
    "plt.subplot(2,2,4)\n",
    "plt.plot(x,y2,\"r\",label=\"Square\")\n",
    "plt.xlabel(\"x-axis\")\n",
    "plt.ylabel(\"y-axis\")"
   ]
  },
  {
   "cell_type": "code",
   "execution_count": null,
   "id": "7aa9edad",
   "metadata": {},
   "outputs": [],
   "source": []
  }
 ],
 "metadata": {
  "kernelspec": {
   "display_name": "Python 3 (ipykernel)",
   "language": "python",
   "name": "python3"
  },
  "language_info": {
   "codemirror_mode": {
    "name": "ipython",
    "version": 3
   },
   "file_extension": ".py",
   "mimetype": "text/x-python",
   "name": "python",
   "nbconvert_exporter": "python",
   "pygments_lexer": "ipython3",
   "version": "3.8.10"
  }
 },
 "nbformat": 4,
 "nbformat_minor": 5
}
